{
  "cells": [
    {
      "cell_type": "code",
      "execution_count": 725,
      "metadata": {
        "id": "kHlmL5InX8AQ"
      },
      "outputs": [],
      "source": [
        "import numpy as np\n",
        "import pandas as pd\n",
        "import time"
      ]
    },
    {
      "cell_type": "code",
      "execution_count": 726,
      "metadata": {},
      "outputs": [
        {
          "name": "stderr",
          "output_type": "stream",
          "text": [
            "c:\\Users\\Komang Putra\\AppData\\Local\\Programs\\Python\\Python310\\lib\\site-packages\\pandas\\io\\sql.py:761: UserWarning: pandas only support SQLAlchemy connectable(engine/connection) ordatabase string URI or sqlite3 DBAPI2 connectionother DBAPI2 objects are not tested, please consider using SQLAlchemy\n",
            "  warnings.warn(\n"
          ]
        }
      ],
      "source": [
        "import mysql.connector\n",
        "mydb = mysql.connector.connect(\n",
        "  host=\"localhost\",\n",
        "  user=\"zetyaa\",\n",
        "  password=\"12345\",\n",
        "  database=\"cbr_restoran\"\n",
        ")\n",
        "\n",
        "query = \"SELECT * FROM dataset_restoran\"\n",
        "data = pd.read_sql(query, con=mydb)"
      ]
    },
    {
      "cell_type": "code",
      "execution_count": 727,
      "metadata": {
        "colab": {
          "base_uri": "https://localhost:8080/",
          "height": 206
        },
        "id": "RenlO-Rba8Ib",
        "outputId": "0f0f6cd3-a6f9-4438-f74d-251cb6b6c177"
      },
      "outputs": [
        {
          "data": {
            "text/plain": [
              "No           0\n",
              "Nama         0\n",
              "Menu         0\n",
              "Daerah       0\n",
              "Tempat       0\n",
              "Kategori     0\n",
              "Jenis        0\n",
              "Rasa         0\n",
              "Harga        0\n",
              "Rating       0\n",
              "Latitude     0\n",
              "Longitude    0\n",
              "Telepon      0\n",
              "dtype: int64"
            ]
          },
          "execution_count": 727,
          "metadata": {},
          "output_type": "execute_result"
        }
      ],
      "source": [
        "# Cek Data NULL\n",
        "data.isnull().sum()"
      ]
    },
    {
      "cell_type": "code",
      "execution_count": 728,
      "metadata": {},
      "outputs": [
        {
          "name": "stdout",
          "output_type": "stream",
          "text": [
            "<class 'pandas.core.frame.DataFrame'>\n",
            "RangeIndex: 100 entries, 0 to 99\n",
            "Data columns (total 13 columns):\n",
            " #   Column     Non-Null Count  Dtype  \n",
            "---  ------     --------------  -----  \n",
            " 0   No         100 non-null    int64  \n",
            " 1   Nama       100 non-null    object \n",
            " 2   Menu       100 non-null    object \n",
            " 3   Daerah     100 non-null    object \n",
            " 4   Tempat     100 non-null    object \n",
            " 5   Kategori   100 non-null    object \n",
            " 6   Jenis      100 non-null    object \n",
            " 7   Rasa       100 non-null    object \n",
            " 8   Harga      100 non-null    int64  \n",
            " 9   Rating     100 non-null    float64\n",
            " 10  Latitude   100 non-null    float64\n",
            " 11  Longitude  100 non-null    float64\n",
            " 12  Telepon    100 non-null    object \n",
            "dtypes: float64(3), int64(2), object(8)\n",
            "memory usage: 10.3+ KB\n"
          ]
        }
      ],
      "source": [
        "data.info()"
      ]
    },
    {
      "cell_type": "markdown",
      "metadata": {
        "id": "isT40E8JcI5U"
      },
      "source": [
        "# Data Preparation"
      ]
    },
    {
      "attachments": {},
      "cell_type": "markdown",
      "metadata": {
        "id": "fnD8tNdPcNcZ"
      },
      "source": [
        "**Mengelompokkan Harga**"
      ]
    },
    {
      "cell_type": "code",
      "execution_count": 729,
      "metadata": {
        "colab": {
          "base_uri": "https://localhost:8080/",
          "height": 206
        },
        "id": "9YdypIGhh8Fy",
        "outputId": "daa7861e-ced6-4c93-e72d-a0667f25b467"
      },
      "outputs": [],
      "source": [
        "# mengelompokkan harga\n",
        "batas_bin = [0, 19999, 39999, 59999, 100000]\n",
        "kategori = ['10K', '30K', '50K', '>50K']\n",
        "data['range_harga'] = pd.cut(data['Harga'], bins=batas_bin, labels=kategori)"
      ]
    },
    {
      "attachments": {},
      "cell_type": "markdown",
      "metadata": {
        "id": "JXGNOI6R72H0"
      },
      "source": [
        "**Mengelompokkan Rating**"
      ]
    },
    {
      "cell_type": "code",
      "execution_count": 730,
      "metadata": {
        "colab": {
          "base_uri": "https://localhost:8080/",
          "height": 250
        },
        "id": "jfD_JsQi97Np",
        "outputId": "b1b39338-0682-493c-f442-6c5de95c153b"
      },
      "outputs": [],
      "source": [
        "# mengelompokkan rating\n",
        "batas_bin = [3, 4, 4.3, 4.6, 5]\n",
        "kategori = ['Cukup', ' Cukup Baik', 'Baik', 'Sangat Baik']\n",
        "data['range_rating'] = pd.cut(data['Rating'], bins=batas_bin, labels=kategori)"
      ]
    },
    {
      "cell_type": "markdown",
      "metadata": {
        "id": "NVOHy6rdqUlE"
      },
      "source": [
        "# Preprocessing Data"
      ]
    },
    {
      "attachments": {},
      "cell_type": "markdown",
      "metadata": {},
      "source": [
        "**Create Table**"
      ]
    },
    {
      "cell_type": "code",
      "execution_count": 731,
      "metadata": {
        "colab": {
          "base_uri": "https://localhost:8080/",
          "height": 206
        },
        "id": "4DeRHqXhq20M",
        "outputId": "f2ef3733-2b46-44df-8cf2-2186a903c5ca"
      },
      "outputs": [
        {
          "data": {
            "text/html": [
              "<div>\n",
              "<style scoped>\n",
              "    .dataframe tbody tr th:only-of-type {\n",
              "        vertical-align: middle;\n",
              "    }\n",
              "\n",
              "    .dataframe tbody tr th {\n",
              "        vertical-align: top;\n",
              "    }\n",
              "\n",
              "    .dataframe thead th {\n",
              "        text-align: right;\n",
              "    }\n",
              "</style>\n",
              "<table border=\"1\" class=\"dataframe\">\n",
              "  <thead>\n",
              "    <tr style=\"text-align: right;\">\n",
              "      <th></th>\n",
              "      <th>Daerah</th>\n",
              "      <th>Tempat</th>\n",
              "      <th>Kategori</th>\n",
              "      <th>Jenis</th>\n",
              "      <th>Rasa</th>\n",
              "      <th>range_harga</th>\n",
              "      <th>range_rating</th>\n",
              "    </tr>\n",
              "  </thead>\n",
              "  <tbody>\n",
              "    <tr>\n",
              "      <th>0</th>\n",
              "      <td>Denpasar Utara</td>\n",
              "      <td>Warung</td>\n",
              "      <td>Babi</td>\n",
              "      <td>Babi Guling</td>\n",
              "      <td>Gurih</td>\n",
              "      <td>10K</td>\n",
              "      <td>Baik</td>\n",
              "    </tr>\n",
              "    <tr>\n",
              "      <th>1</th>\n",
              "      <td>Denpasar Utara</td>\n",
              "      <td>Warung</td>\n",
              "      <td>Babi</td>\n",
              "      <td>Babi Guling</td>\n",
              "      <td>Pedas</td>\n",
              "      <td>10K</td>\n",
              "      <td>Baik</td>\n",
              "    </tr>\n",
              "    <tr>\n",
              "      <th>2</th>\n",
              "      <td>Denpasar Selatan</td>\n",
              "      <td>Warung</td>\n",
              "      <td>Babi</td>\n",
              "      <td>Babi Guling</td>\n",
              "      <td>Pedas</td>\n",
              "      <td>30K</td>\n",
              "      <td>Sangat Baik</td>\n",
              "    </tr>\n",
              "    <tr>\n",
              "      <th>3</th>\n",
              "      <td>Denpasar Utara</td>\n",
              "      <td>Warung</td>\n",
              "      <td>Babi</td>\n",
              "      <td>Babi Guling</td>\n",
              "      <td>Pedas</td>\n",
              "      <td>30K</td>\n",
              "      <td>Baik</td>\n",
              "    </tr>\n",
              "    <tr>\n",
              "      <th>4</th>\n",
              "      <td>Denpasar Utara</td>\n",
              "      <td>Warung</td>\n",
              "      <td>Babi</td>\n",
              "      <td>Babi Guling</td>\n",
              "      <td>Gurih</td>\n",
              "      <td>10K</td>\n",
              "      <td>Baik</td>\n",
              "    </tr>\n",
              "  </tbody>\n",
              "</table>\n",
              "</div>"
            ],
            "text/plain": [
              "             Daerah  Tempat Kategori        Jenis   Rasa range_harga  \\\n",
              "0    Denpasar Utara  Warung     Babi  Babi Guling  Gurih         10K   \n",
              "1    Denpasar Utara  Warung     Babi  Babi Guling  Pedas         10K   \n",
              "2  Denpasar Selatan  Warung     Babi  Babi Guling  Pedas         30K   \n",
              "3    Denpasar Utara  Warung     Babi  Babi Guling  Pedas         30K   \n",
              "4    Denpasar Utara  Warung     Babi  Babi Guling  Gurih         10K   \n",
              "\n",
              "  range_rating  \n",
              "0         Baik  \n",
              "1         Baik  \n",
              "2  Sangat Baik  \n",
              "3         Baik  \n",
              "4         Baik  "
            ]
          },
          "execution_count": 731,
          "metadata": {},
          "output_type": "execute_result"
        }
      ],
      "source": [
        "# membentuk tabel baru\n",
        "old_case = ['Daerah', 'Tempat', 'Kategori', 'Jenis', 'Rasa', 'range_harga', 'range_rating']\n",
        "old_case = data[old_case]\n",
        "old_case.head()"
      ]
    },
    {
      "cell_type": "markdown",
      "metadata": {
        "id": "ZtkhW5Rh1cF9"
      },
      "source": [
        "**User Input Data**"
      ]
    },
    {
      "cell_type": "code",
      "execution_count": 732,
      "metadata": {},
      "outputs": [
        {
          "data": {
            "text/html": [
              "<div>\n",
              "<style scoped>\n",
              "    .dataframe tbody tr th:only-of-type {\n",
              "        vertical-align: middle;\n",
              "    }\n",
              "\n",
              "    .dataframe tbody tr th {\n",
              "        vertical-align: top;\n",
              "    }\n",
              "\n",
              "    .dataframe thead th {\n",
              "        text-align: right;\n",
              "    }\n",
              "</style>\n",
              "<table border=\"1\" class=\"dataframe\">\n",
              "  <thead>\n",
              "    <tr style=\"text-align: right;\">\n",
              "      <th></th>\n",
              "      <th>Daerah</th>\n",
              "      <th>Tempat</th>\n",
              "      <th>Kategori</th>\n",
              "      <th>Jenis</th>\n",
              "      <th>Rasa</th>\n",
              "      <th>range_harga</th>\n",
              "      <th>range_rating</th>\n",
              "    </tr>\n",
              "  </thead>\n",
              "  <tbody>\n",
              "    <tr>\n",
              "      <th>0</th>\n",
              "      <td>Sanur</td>\n",
              "      <td>Hotel</td>\n",
              "      <td>Sapi</td>\n",
              "      <td>Rendang</td>\n",
              "      <td>Asem</td>\n",
              "      <td>100K</td>\n",
              "      <td>Mantap</td>\n",
              "    </tr>\n",
              "  </tbody>\n",
              "</table>\n",
              "</div>"
            ],
            "text/plain": [
              "  Daerah Tempat Kategori    Jenis  Rasa range_harga range_rating\n",
              "0  Sanur  Hotel     Sapi  Rendang  Asem        100K       Mantap"
            ]
          },
          "execution_count": 732,
          "metadata": {},
          "output_type": "execute_result"
        }
      ],
      "source": [
        "daerah = 'Sanur' \n",
        "tempat = 'Hotel' \n",
        "kategori = 'Sapi' \n",
        "jenis = 'Rendang' \n",
        "rasa = 'Asem' \n",
        "harga = '100K' \n",
        "rating = 'Mantap'\n",
        "\n",
        "new_Case = {\n",
        "    'Daerah':[daerah],\n",
        "    'Tempat':[tempat],\n",
        "    'Kategori':[kategori],\n",
        "    'Jenis':[jenis],\n",
        "    'Rasa':[rasa],\n",
        "    'range_harga':[harga],\n",
        "    'range_rating':[rating]\n",
        "}\n",
        "\n",
        "new_case = pd.DataFrame(new_Case)\n",
        "new_case.head()"
      ]
    },
    {
      "attachments": {},
      "cell_type": "markdown",
      "metadata": {
        "id": "-M8n3bj7GgDN"
      },
      "source": [
        "**Merge Kasus Lama dan Baru**"
      ]
    },
    {
      "cell_type": "code",
      "execution_count": 733,
      "metadata": {},
      "outputs": [],
      "source": [
        "start_time = time.time()"
      ]
    },
    {
      "cell_type": "code",
      "execution_count": 734,
      "metadata": {
        "colab": {
          "base_uri": "https://localhost:8080/"
        },
        "id": "IMSLp130GkR6",
        "outputId": "634f9756-41ae-4791-afff-0f1815d1da3a"
      },
      "outputs": [],
      "source": [
        "mergeData = [old_case, new_case]\n",
        "mergeData = pd.concat(mergeData).reset_index(drop=True)"
      ]
    },
    {
      "cell_type": "code",
      "execution_count": 735,
      "metadata": {},
      "outputs": [
        {
          "name": "stdout",
          "output_type": "stream",
          "text": [
            "<class 'pandas.core.frame.DataFrame'>\n",
            "RangeIndex: 101 entries, 0 to 100\n",
            "Data columns (total 7 columns):\n",
            " #   Column        Non-Null Count  Dtype \n",
            "---  ------        --------------  ----- \n",
            " 0   Daerah        101 non-null    object\n",
            " 1   Tempat        101 non-null    object\n",
            " 2   Kategori      101 non-null    object\n",
            " 3   Jenis         101 non-null    object\n",
            " 4   Rasa          101 non-null    object\n",
            " 5   range_harga   101 non-null    object\n",
            " 6   range_rating  101 non-null    object\n",
            "dtypes: object(7)\n",
            "memory usage: 5.6+ KB\n"
          ]
        }
      ],
      "source": [
        "mergeData.info()"
      ]
    },
    {
      "cell_type": "markdown",
      "metadata": {
        "id": "oZE5FkY5Vu43"
      },
      "source": [
        "**One Hot Encoding**"
      ]
    },
    {
      "cell_type": "code",
      "execution_count": 693,
      "metadata": {
        "colab": {
          "base_uri": "https://localhost:8080/",
          "height": 206
        },
        "id": "ByWstbwNs51s",
        "outputId": "b220de62-2884-4b4e-8888-179be558e5e8"
      },
      "outputs": [],
      "source": [
        "#Convert data lama kategrorikal menjadi numerik\n",
        "from sklearn.preprocessing import LabelEncoder\n",
        "le=LabelEncoder()\n",
        "for i in mergeData.columns:\n",
        "    mergeData[i]=le.fit_transform(mergeData[i])"
      ]
    },
    {
      "attachments": {},
      "cell_type": "markdown",
      "metadata": {},
      "source": [
        "**Split Old Case and New Case**"
      ]
    },
    {
      "cell_type": "code",
      "execution_count": 694,
      "metadata": {},
      "outputs": [],
      "source": [
        "oldCase = mergeData.iloc[:-1]\n",
        "newCase = mergeData.iloc[-1:]"
      ]
    },
    {
      "cell_type": "markdown",
      "metadata": {
        "id": "cSMuYJiIunNQ"
      },
      "source": [
        "# Indexing dengan K-Means"
      ]
    },
    {
      "attachments": {},
      "cell_type": "markdown",
      "metadata": {},
      "source": [
        "**Scaling Old Data**"
      ]
    },
    {
      "cell_type": "code",
      "execution_count": 695,
      "metadata": {
        "colab": {
          "base_uri": "https://localhost:8080/"
        },
        "id": "w-Nf4EzWuu_X",
        "outputId": "6704a393-c9a9-494b-a4bc-992d6dff6a16"
      },
      "outputs": [],
      "source": [
        "from sklearn.preprocessing import StandardScaler\n",
        "scaler = StandardScaler()\n",
        "scaler.fit(oldCase)\n",
        "old_scaled = scaler.transform(oldCase)\n",
        "old_scaled = pd.DataFrame(old_scaled)"
      ]
    },
    {
      "attachments": {},
      "cell_type": "markdown",
      "metadata": {},
      "source": [
        "**Scaling All Data**"
      ]
    },
    {
      "cell_type": "code",
      "execution_count": 696,
      "metadata": {},
      "outputs": [],
      "source": [
        "scaler = StandardScaler()\n",
        "scaler.fit(mergeData)\n",
        "all_scaled = scaler.transform(mergeData)\n",
        "all_scaled = pd.DataFrame(all_scaled)"
      ]
    },
    {
      "cell_type": "code",
      "execution_count": 697,
      "metadata": {},
      "outputs": [],
      "source": [
        "# mengambil value scale kasus baru\n",
        "coordInit = all_scaled.iloc[-1:]"
      ]
    },
    {
      "attachments": {},
      "cell_type": "markdown",
      "metadata": {},
      "source": [
        "**Clustering Data**"
      ]
    },
    {
      "cell_type": "code",
      "execution_count": 698,
      "metadata": {
        "colab": {
          "base_uri": "https://localhost:8080/",
          "height": 295
        },
        "id": "aTedhnQ54tUZ",
        "outputId": "71978766-70cd-4e96-967c-210e79e35963"
      },
      "outputs": [
        {
          "data": {
            "image/png": "[encoded data removed]",
            "text/plain": [
              "<Figure size 432x288 with 1 Axes>"
            ]
          },
          "metadata": {
            "needs_background": "light"
          },
          "output_type": "display_data"
        }
      ],
      "source": [
        "from sklearn.cluster import KMeans\n",
        "import matplotlib.pyplot as plt \n",
        "cs = []\n",
        "for i in range(1, 10):\n",
        "    kmeans = KMeans(n_clusters = i, init = 'k-means++', max_iter = 300, n_init = 10, random_state = 0)\n",
        "    kmeans.fit(oldCase)\n",
        "    cs.append(kmeans.inertia_)\n",
        "plt.plot(range(1, 10), cs)\n",
        "plt.title('The Elbow Method')\n",
        "plt.xlabel('Number of clusters')\n",
        "plt.ylabel('CS')\n",
        "plt.show()"
      ]
    },
    {
      "cell_type": "code",
      "execution_count": 699,
      "metadata": {
        "colab": {
          "base_uri": "https://localhost:8080/"
        },
        "id": "PMKYKgomwtZM",
        "outputId": "233d7310-c515-4c37-e79a-0b516e7966e7"
      },
      "outputs": [
        {
          "name": "stderr",
          "output_type": "stream",
          "text": [
            "C:\\Users\\Komang Putra\\AppData\\Local\\Temp\\ipykernel_20176\\995161883.py:3: SettingWithCopyWarning: \n",
            "A value is trying to be set on a copy of a slice from a DataFrame.\n",
            "Try using .loc[row_indexer,col_indexer] = value instead\n",
            "\n",
            "See the caveats in the documentation: https://pandas.pydata.org/pandas-docs/stable/user_guide/indexing.html#returning-a-view-versus-a-copy\n",
            "  oldCase['Cluster'] = y_predicted\n"
          ]
        }
      ],
      "source": [
        "kmeans = KMeans(n_clusters=3)\n",
        "y_predicted = kmeans.fit_predict(old_scaled) \n",
        "oldCase['Cluster'] = y_predicted"
      ]
    },
    {
      "attachments": {},
      "cell_type": "markdown",
      "metadata": {},
      "source": [
        "**Euclidean Distance Between New Case And Centroid**"
      ]
    },
    {
      "cell_type": "code",
      "execution_count": 700,
      "metadata": {},
      "outputs": [],
      "source": [
        "#centroid cluster\n",
        "listCentroid = kmeans.cluster_centers_"
      ]
    },
    {
      "cell_type": "code",
      "execution_count": 701,
      "metadata": {},
      "outputs": [],
      "source": [
        "import math\n",
        "distance = list()\n",
        "for i in range(len(listCentroid)):\n",
        "    coordFinal = listCentroid[i]\n",
        "\n",
        "    #distance from old with centroid\n",
        "    dist = math.sqrt(((coordInit[0] - coordFinal[0]) ** 2) \n",
        "                    + ((coordInit[1] - coordFinal[1]) ** 2) \n",
        "                    + ((coordInit[2] - coordFinal[2]) ** 2)\n",
        "                    + ((coordInit[3] - coordFinal[3]) ** 2)\n",
        "                    + ((coordInit[4] - coordFinal[4]) ** 2)\n",
        "                    + ((coordInit[5] - coordFinal[5]) ** 2)\n",
        "                    + ((coordInit[6] - coordFinal[6]) ** 2))\n",
        "    distance.append(dist)"
      ]
    },
    {
      "attachments": {},
      "cell_type": "markdown",
      "metadata": {},
      "source": [
        "**Mendapatkan Posisi Cluster Untuk Kasus Baru**"
      ]
    },
    {
      "cell_type": "code",
      "execution_count": 702,
      "metadata": {},
      "outputs": [
        {
          "name": "stderr",
          "output_type": "stream",
          "text": [
            "C:\\Users\\Komang Putra\\AppData\\Local\\Temp\\ipykernel_20176\\1144293685.py:2: SettingWithCopyWarning: \n",
            "A value is trying to be set on a copy of a slice from a DataFrame.\n",
            "Try using .loc[row_indexer,col_indexer] = value instead\n",
            "\n",
            "See the caveats in the documentation: https://pandas.pydata.org/pandas-docs/stable/user_guide/indexing.html#returning-a-view-versus-a-copy\n",
            "  newCase['Cluster'] = minpos\n"
          ]
        },
        {
          "data": {
            "text/plain": [
              "2"
            ]
          },
          "execution_count": 702,
          "metadata": {},
          "output_type": "execute_result"
        }
      ],
      "source": [
        "minpos = distance.index(min(distance))\n",
        "newCase['Cluster'] = minpos\n",
        "minpos"
      ]
    },
    {
      "attachments": {},
      "cell_type": "markdown",
      "metadata": {},
      "source": [
        "**Create Cluster**"
      ]
    },
    {
      "cell_type": "code",
      "execution_count": 703,
      "metadata": {},
      "outputs": [
        {
          "data": {
            "text/plain": [
              "Cluster\n",
              "0    52\n",
              "1    38\n",
              "2    11\n",
              "Name: Cluster, dtype: int64"
            ]
          },
          "execution_count": 703,
          "metadata": {},
          "output_type": "execute_result"
        }
      ],
      "source": [
        "#Merge Data\n",
        "restaurant = [oldCase, newCase]\n",
        "restaurant = pd.concat(restaurant).reset_index(drop=True)\n",
        "\n",
        "# count feature cluster\n",
        "restaurant.groupby('Cluster')['Cluster'].count()"
      ]
    },
    {
      "cell_type": "code",
      "execution_count": 704,
      "metadata": {
        "colab": {
          "base_uri": "https://localhost:8080/",
          "height": 295
        },
        "id": "w6fLsVRoXZ51",
        "outputId": "707be35e-6829-4d9b-9146-59cd196d3a4a"
      },
      "outputs": [
        {
          "data": {
            "image/png": "[encoded data removed]",
            "text/plain": [
              "<Figure size 432x288 with 1 Axes>"
            ]
          },
          "metadata": {
            "needs_background": "light"
          },
          "output_type": "display_data"
        }
      ],
      "source": [
        "import seaborn as sns\n",
        "pal = ['green','orange','red']\n",
        "pl = sns.countplot(x=restaurant[\"Cluster\"], palette= pal)\n",
        "pl.set_title(\"Distribution Of The Clusters\")\n",
        "plt.show()"
      ]
    },
    {
      "cell_type": "markdown",
      "metadata": {
        "id": "68wXtKkCLT2Y"
      },
      "source": [
        "**Tabel Cluster Kasus Baru**"
      ]
    },
    {
      "cell_type": "code",
      "execution_count": 705,
      "metadata": {
        "colab": {
          "base_uri": "https://localhost:8080/",
          "height": 394
        },
        "id": "tAlX0ZivOdit",
        "outputId": "66558f88-9b35-43b4-892c-e54e8917b298"
      },
      "outputs": [
        {
          "data": {
            "text/html": [
              "<div>\n",
              "<style scoped>\n",
              "    .dataframe tbody tr th:only-of-type {\n",
              "        vertical-align: middle;\n",
              "    }\n",
              "\n",
              "    .dataframe tbody tr th {\n",
              "        vertical-align: top;\n",
              "    }\n",
              "\n",
              "    .dataframe thead th {\n",
              "        text-align: right;\n",
              "    }\n",
              "</style>\n",
              "<table border=\"1\" class=\"dataframe\">\n",
              "  <thead>\n",
              "    <tr style=\"text-align: right;\">\n",
              "      <th></th>\n",
              "      <th>Daerah</th>\n",
              "      <th>Tempat</th>\n",
              "      <th>Kategori</th>\n",
              "      <th>Jenis</th>\n",
              "      <th>Rasa</th>\n",
              "      <th>range_harga</th>\n",
              "      <th>range_rating</th>\n",
              "      <th>Cluster</th>\n",
              "    </tr>\n",
              "  </thead>\n",
              "  <tbody>\n",
              "    <tr>\n",
              "      <th>32</th>\n",
              "      <td>4</td>\n",
              "      <td>1</td>\n",
              "      <td>0</td>\n",
              "      <td>3</td>\n",
              "      <td>4</td>\n",
              "      <td>1</td>\n",
              "      <td>0</td>\n",
              "      <td>2</td>\n",
              "    </tr>\n",
              "    <tr>\n",
              "      <th>44</th>\n",
              "      <td>9</td>\n",
              "      <td>1</td>\n",
              "      <td>1</td>\n",
              "      <td>1</td>\n",
              "      <td>4</td>\n",
              "      <td>2</td>\n",
              "      <td>0</td>\n",
              "      <td>2</td>\n",
              "    </tr>\n",
              "    <tr>\n",
              "      <th>56</th>\n",
              "      <td>1</td>\n",
              "      <td>1</td>\n",
              "      <td>1</td>\n",
              "      <td>1</td>\n",
              "      <td>4</td>\n",
              "      <td>3</td>\n",
              "      <td>0</td>\n",
              "      <td>2</td>\n",
              "    </tr>\n",
              "    <tr>\n",
              "      <th>59</th>\n",
              "      <td>0</td>\n",
              "      <td>1</td>\n",
              "      <td>0</td>\n",
              "      <td>3</td>\n",
              "      <td>4</td>\n",
              "      <td>1</td>\n",
              "      <td>0</td>\n",
              "      <td>2</td>\n",
              "    </tr>\n",
              "    <tr>\n",
              "      <th>69</th>\n",
              "      <td>0</td>\n",
              "      <td>1</td>\n",
              "      <td>0</td>\n",
              "      <td>3</td>\n",
              "      <td>4</td>\n",
              "      <td>2</td>\n",
              "      <td>1</td>\n",
              "      <td>2</td>\n",
              "    </tr>\n",
              "    <tr>\n",
              "      <th>73</th>\n",
              "      <td>0</td>\n",
              "      <td>1</td>\n",
              "      <td>1</td>\n",
              "      <td>1</td>\n",
              "      <td>2</td>\n",
              "      <td>1</td>\n",
              "      <td>1</td>\n",
              "      <td>2</td>\n",
              "    </tr>\n",
              "    <tr>\n",
              "      <th>83</th>\n",
              "      <td>12</td>\n",
              "      <td>1</td>\n",
              "      <td>1</td>\n",
              "      <td>2</td>\n",
              "      <td>3</td>\n",
              "      <td>1</td>\n",
              "      <td>0</td>\n",
              "      <td>2</td>\n",
              "    </tr>\n",
              "    <tr>\n",
              "      <th>93</th>\n",
              "      <td>0</td>\n",
              "      <td>1</td>\n",
              "      <td>1</td>\n",
              "      <td>1</td>\n",
              "      <td>2</td>\n",
              "      <td>1</td>\n",
              "      <td>0</td>\n",
              "      <td>2</td>\n",
              "    </tr>\n",
              "    <tr>\n",
              "      <th>94</th>\n",
              "      <td>1</td>\n",
              "      <td>1</td>\n",
              "      <td>1</td>\n",
              "      <td>1</td>\n",
              "      <td>2</td>\n",
              "      <td>1</td>\n",
              "      <td>0</td>\n",
              "      <td>2</td>\n",
              "    </tr>\n",
              "    <tr>\n",
              "      <th>97</th>\n",
              "      <td>1</td>\n",
              "      <td>1</td>\n",
              "      <td>1</td>\n",
              "      <td>1</td>\n",
              "      <td>4</td>\n",
              "      <td>2</td>\n",
              "      <td>1</td>\n",
              "      <td>2</td>\n",
              "    </tr>\n",
              "    <tr>\n",
              "      <th>100</th>\n",
              "      <td>11</td>\n",
              "      <td>0</td>\n",
              "      <td>5</td>\n",
              "      <td>7</td>\n",
              "      <td>1</td>\n",
              "      <td>0</td>\n",
              "      <td>3</td>\n",
              "      <td>2</td>\n",
              "    </tr>\n",
              "  </tbody>\n",
              "</table>\n",
              "</div>"
            ],
            "text/plain": [
              "     Daerah  Tempat  Kategori  Jenis  Rasa  range_harga  range_rating  Cluster\n",
              "32        4       1         0      3     4            1             0        2\n",
              "44        9       1         1      1     4            2             0        2\n",
              "56        1       1         1      1     4            3             0        2\n",
              "59        0       1         0      3     4            1             0        2\n",
              "69        0       1         0      3     4            2             1        2\n",
              "73        0       1         1      1     2            1             1        2\n",
              "83       12       1         1      2     3            1             0        2\n",
              "93        0       1         1      1     2            1             0        2\n",
              "94        1       1         1      1     2            1             0        2\n",
              "97        1       1         1      1     4            2             1        2\n",
              "100      11       0         5      7     1            0             3        2"
            ]
          },
          "execution_count": 705,
          "metadata": {},
          "output_type": "execute_result"
        }
      ],
      "source": [
        "restaurant['Cluster']=restaurant['Cluster'].astype('int32')\n",
        "newCluster = restaurant.loc[restaurant[\"Cluster\"] == minpos]\n",
        "newCluster"
      ]
    },
    {
      "cell_type": "markdown",
      "metadata": {
        "id": "RKA80rYOWWlW"
      },
      "source": [
        "# Similarity dengan K-Nearest Neighbor"
      ]
    },
    {
      "cell_type": "markdown",
      "metadata": {
        "id": "n9ahoJxmhaGs"
      },
      "source": [
        "**Pembobotan**"
      ]
    },
    {
      "cell_type": "code",
      "execution_count": 706,
      "metadata": {
        "id": "ACqGx_o0hc16"
      },
      "outputs": [],
      "source": [
        "bobot = [10, 8, 10, 7, 4, 6, 7]\n",
        "jumlah_bobot = sum(bobot)\n",
        "total_rows = len(newCluster.index)"
      ]
    },
    {
      "cell_type": "code",
      "execution_count": 707,
      "metadata": {
        "colab": {
          "base_uri": "https://localhost:8080/"
        },
        "id": "lm9LzLVTjHuI",
        "outputId": "68435a20-b217-41cb-f103-4ee95f6b3b3c"
      },
      "outputs": [],
      "source": [
        "xdaerah = []\n",
        "for j in range(total_rows-1):\n",
        "  if newCluster.iloc[-1,0] != newCluster.iloc[j,0]:\n",
        "    xdaerah.append(0)\n",
        "  elif newCluster.iloc[-1,0] == newCluster.iloc[j,0]:\n",
        "    xdaerah.append(bobot[0])"
      ]
    },
    {
      "cell_type": "code",
      "execution_count": 708,
      "metadata": {
        "colab": {
          "base_uri": "https://localhost:8080/"
        },
        "id": "jUseWUrAn9ir",
        "outputId": "25c1fbce-adf3-4322-edad-5b23c67f41bb"
      },
      "outputs": [],
      "source": [
        "xtempat = []\n",
        "for j in range(total_rows-1):\n",
        "  if newCluster.iloc[-1,1] != newCluster.iloc[j,1]:\n",
        "    xtempat.append(0)\n",
        "  elif newCluster.iloc[-1,1] == newCluster.iloc[j,1]:\n",
        "    xtempat.append(bobot[1])"
      ]
    },
    {
      "cell_type": "code",
      "execution_count": 709,
      "metadata": {
        "colab": {
          "base_uri": "https://localhost:8080/"
        },
        "id": "dD5-sM3voEpO",
        "outputId": "f69904ca-e944-4de0-c9d0-1eeba15068e4"
      },
      "outputs": [],
      "source": [
        "xkategori = []\n",
        "for j in range(total_rows-1):\n",
        "  if newCluster.iloc[-1,2] != newCluster.iloc[j,2]:\n",
        "    xkategori.append(0)\n",
        "  elif newCluster.iloc[-1,2] == newCluster.iloc[j,2]:\n",
        "    xkategori.append(bobot[2])"
      ]
    },
    {
      "cell_type": "code",
      "execution_count": 710,
      "metadata": {
        "colab": {
          "base_uri": "https://localhost:8080/"
        },
        "id": "RXvGUGRYoMZF",
        "outputId": "0f07f1d0-62ba-4878-c095-c6c4990034a6"
      },
      "outputs": [],
      "source": [
        "xjenis = []\n",
        "for j in range(total_rows-1):\n",
        "  if newCluster.iloc[-1,3] != newCluster.iloc[j,3]:\n",
        "    xjenis.append(0)\n",
        "  elif newCluster.iloc[-1,3] == newCluster.iloc[j,3]:\n",
        "    xjenis.append(bobot[3])"
      ]
    },
    {
      "cell_type": "code",
      "execution_count": 711,
      "metadata": {
        "colab": {
          "base_uri": "https://localhost:8080/"
        },
        "id": "ZV9e64_fPWcZ",
        "outputId": "ff31caec-6d18-4e53-8901-03abcecfc60d"
      },
      "outputs": [],
      "source": [
        "xrasa = []\n",
        "for j in range(total_rows-1):\n",
        "  if newCluster.iloc[-1,4] != newCluster.iloc[j,4]:\n",
        "    xrasa.append(0)\n",
        "  elif newCluster.iloc[-1,4] == newCluster.iloc[j,4]:\n",
        "    xrasa.append(bobot[4])"
      ]
    },
    {
      "cell_type": "code",
      "execution_count": 712,
      "metadata": {
        "colab": {
          "base_uri": "https://localhost:8080/"
        },
        "id": "YkQHEAHFP9BY",
        "outputId": "a36bdf37-2a77-4542-c610-aa160d91c2ee"
      },
      "outputs": [],
      "source": [
        "xharga = []\n",
        "for j in range(total_rows-1):\n",
        "  if newCluster.iloc[-1,5] != newCluster.iloc[j,5]:\n",
        "    xharga.append(0)\n",
        "  elif newCluster.iloc[-1,5] == newCluster.iloc[j,5]:\n",
        "    xharga.append(bobot[5])"
      ]
    },
    {
      "cell_type": "code",
      "execution_count": 713,
      "metadata": {
        "colab": {
          "base_uri": "https://localhost:8080/"
        },
        "id": "lu9a_meJS4oR",
        "outputId": "f0937622-3648-4fa9-ed4a-5f2549e6ff3b"
      },
      "outputs": [],
      "source": [
        "xrating = []\n",
        "for j in range(total_rows-1):\n",
        "  if newCluster.iloc[-1,6] != newCluster.iloc[j,6]:\n",
        "    xrating.append(0)\n",
        "  elif newCluster.iloc[-1,6] == newCluster.iloc[j,6]:\n",
        "    xrating.append(bobot[6])"
      ]
    },
    {
      "attachments": {},
      "cell_type": "markdown",
      "metadata": {},
      "source": [
        "**Perhitungan Similarity**"
      ]
    },
    {
      "cell_type": "code",
      "execution_count": 714,
      "metadata": {
        "colab": {
          "base_uri": "https://localhost:8080/"
        },
        "id": "PHAzYox6p5RL",
        "outputId": "2d5bc107-65d1-495b-f4fe-02c9aaa9d1a1"
      },
      "outputs": [],
      "source": [
        "similarity = []\n",
        "for j in range (total_rows-1):\n",
        "  similarity.append(round((xdaerah[j] + xtempat[j] + xkategori[j] + xjenis[j] + xrasa[j] + xharga[j] + xrating[j]) / jumlah_bobot * 100,2))\n",
        "\n",
        "similarity = np.array(similarity)"
      ]
    },
    {
      "cell_type": "code",
      "execution_count": 715,
      "metadata": {
        "colab": {
          "base_uri": "https://localhost:8080/"
        },
        "id": "O17bRP0-qh7A",
        "outputId": "2453887b-210e-417a-950f-011344b697c4"
      },
      "outputs": [],
      "source": [
        "index = []\n",
        "for j in range (total_rows-1):\n",
        "  index.append(newCluster.index[j])\n",
        "\n",
        "index = np.array(index)"
      ]
    },
    {
      "cell_type": "code",
      "execution_count": 716,
      "metadata": {
        "colab": {
          "base_uri": "https://localhost:8080/",
          "height": 363
        },
        "id": "QopRhqtDqsML",
        "outputId": "002dae01-7905-4d03-ccd4-11e31e7e022d"
      },
      "outputs": [],
      "source": [
        "dataframe_similarity=pd.DataFrame(index, columns=['Index']) \n",
        "dataframe_similarity['Nilai_Similarity'] = similarity"
      ]
    },
    {
      "cell_type": "code",
      "execution_count": 717,
      "metadata": {
        "colab": {
          "base_uri": "https://localhost:8080/",
          "height": 81
        },
        "id": "DyjV6SEkquz-",
        "outputId": "de8a4a4d-889b-423c-a1ae-01eb05937067"
      },
      "outputs": [
        {
          "data": {
            "text/html": [
              "<div>\n",
              "<style scoped>\n",
              "    .dataframe tbody tr th:only-of-type {\n",
              "        vertical-align: middle;\n",
              "    }\n",
              "\n",
              "    .dataframe tbody tr th {\n",
              "        vertical-align: top;\n",
              "    }\n",
              "\n",
              "    .dataframe thead th {\n",
              "        text-align: right;\n",
              "    }\n",
              "</style>\n",
              "<table border=\"1\" class=\"dataframe\">\n",
              "  <thead>\n",
              "    <tr style=\"text-align: right;\">\n",
              "      <th></th>\n",
              "      <th>Index</th>\n",
              "      <th>Nilai_Similarity</th>\n",
              "    </tr>\n",
              "  </thead>\n",
              "  <tbody>\n",
              "  </tbody>\n",
              "</table>\n",
              "</div>"
            ],
            "text/plain": [
              "Empty DataFrame\n",
              "Columns: [Index, Nilai_Similarity]\n",
              "Index: []"
            ]
          },
          "execution_count": 717,
          "metadata": {},
          "output_type": "execute_result"
        }
      ],
      "source": [
        "treshold_resto = dataframe_similarity.loc[(dataframe_similarity.Nilai_Similarity >= 70)]\n",
        "treshold_resto = treshold_resto.sort_values('Nilai_Similarity',ascending=False)\n",
        "treshold_resto"
      ]
    },
    {
      "cell_type": "code",
      "execution_count": 718,
      "metadata": {},
      "outputs": [
        {
          "name": "stdout",
          "output_type": "stream",
          "text": [
            "Waktu komputasi:  2.2060530185699463  detik\n"
          ]
        }
      ],
      "source": [
        "end_time = time.time()\n",
        "total_time = end_time - start_time\n",
        "print(\"Waktu komputasi: \", total_time, \" detik\")"
      ]
    },
    {
      "attachments": {},
      "cell_type": "markdown",
      "metadata": {},
      "source": [
        "**Hasil Rekomendasi**"
      ]
    },
    {
      "cell_type": "code",
      "execution_count": 719,
      "metadata": {},
      "outputs": [
        {
          "name": "stdout",
          "output_type": "stream",
          "text": [
            "Mohon maaf, tidak ada rekomendasi untuk restoran yang anda cari \n",
            " Mohon menunggu pakar dalam mencari rekomendasi yang sesuai untuk anda\n"
          ]
        }
      ],
      "source": [
        "solusi = treshold_resto.Index\n",
        "solusi = np.array(solusi)\n",
        "data_list = []\n",
        "len_solution = len(treshold_resto)\n",
        "\n",
        "if len_solution == 0:\n",
        "    #Jika tidak ada rekomendasi masuk ke revise\n",
        "    print(\"Mohon maaf, tidak ada rekomendasi untuk restoran yang anda cari \\n Mohon menunggu pakar dalam mencari rekomendasi yang sesuai untuk anda\")\n",
        "    mycursor = mydb.cursor()\n",
        "    revise_sql = \"INSERT INTO revise (Daerah, Tempat, Kategori, Jenis, Rasa, Harga, Rating, Status) VALUES (%s, %s, %s, %s, %s, %s, %s, %s)\"\n",
        "    revise_src = (daerah, tempat, kategori, jenis, rasa, harga, rating, 0)\n",
        "    mycursor.execute(revise_sql, revise_src)\n",
        "    mydb.commit() \n",
        "else:\n",
        "    #masukan data ke hasil\n",
        "    for i in range(min(5, max(1, len(solusi)))):\n",
        "        data_list.append(data.loc[solusi[i]])\n",
        "    result = pd.DataFrame(data_list)\n",
        "\n",
        "    # merge hasil similarity dengan rekomendasi\n",
        "    result['Similarity'] = treshold_resto['Nilai_Similarity'].values[:len(data_list)]"
      ]
    },
    {
      "cell_type": "code",
      "execution_count": 720,
      "metadata": {},
      "outputs": [],
      "source": [
        "## SEMISAL AKU MAU CHECK KALO SEMISAL ADA NAMA RESTORAN YANG SAMA DIPILIH SIMILARITY YG PALING GEDE AJA, YANG KECIL GA MASUK\n",
        "## TAPI DATANYA BIAR TETEP 5, KALO LEWATIN TAHAP INI KAN UDH DI FILTER JADI 5 KALO ADA 2 DATA SAMA BERKURANG JADI 4\n",
        "# result = result.groupby('Nama')['Nilai_Similarity'].idxmax()"
      ]
    },
    {
      "attachments": {},
      "cell_type": "markdown",
      "metadata": {},
      "source": [
        "# Output"
      ]
    },
    {
      "attachments": {},
      "cell_type": "markdown",
      "metadata": {},
      "source": [
        "**Nilai Threshold**"
      ]
    },
    {
      "cell_type": "code",
      "execution_count": 721,
      "metadata": {},
      "outputs": [
        {
          "data": {
            "text/plain": [
              "Series([], Name: Nilai_Similarity, dtype: float64)"
            ]
          },
          "execution_count": 721,
          "metadata": {},
          "output_type": "execute_result"
        }
      ],
      "source": [
        "treshold_resto['Nilai_Similarity']"
      ]
    },
    {
      "attachments": {},
      "cell_type": "markdown",
      "metadata": {},
      "source": [
        "**Rekomendasi**"
      ]
    },
    {
      "cell_type": "code",
      "execution_count": 722,
      "metadata": {},
      "outputs": [
        {
          "data": {
            "text/html": [
              "<div>\n",
              "<style scoped>\n",
              "    .dataframe tbody tr th:only-of-type {\n",
              "        vertical-align: middle;\n",
              "    }\n",
              "\n",
              "    .dataframe tbody tr th {\n",
              "        vertical-align: top;\n",
              "    }\n",
              "\n",
              "    .dataframe thead th {\n",
              "        text-align: right;\n",
              "    }\n",
              "</style>\n",
              "<table border=\"1\" class=\"dataframe\">\n",
              "  <thead>\n",
              "    <tr style=\"text-align: right;\">\n",
              "      <th></th>\n",
              "      <th>No</th>\n",
              "      <th>Nama</th>\n",
              "      <th>Menu</th>\n",
              "      <th>Daerah</th>\n",
              "      <th>Tempat</th>\n",
              "      <th>Kategori</th>\n",
              "      <th>Jenis</th>\n",
              "      <th>Rasa</th>\n",
              "      <th>Harga</th>\n",
              "      <th>Rating</th>\n",
              "      <th>Latitude</th>\n",
              "      <th>Longitude</th>\n",
              "      <th>Telepon</th>\n",
              "      <th>range_harga</th>\n",
              "      <th>range_rating</th>\n",
              "      <th>Similarity</th>\n",
              "    </tr>\n",
              "  </thead>\n",
              "  <tbody>\n",
              "    <tr>\n",
              "      <th>10</th>\n",
              "      <td>11</td>\n",
              "      <td>Wr. Murni Asih</td>\n",
              "      <td>Babi Guling Khas Gianyar</td>\n",
              "      <td>Denpasar Selatan</td>\n",
              "      <td>Warung</td>\n",
              "      <td>Babi</td>\n",
              "      <td>Babi Guling</td>\n",
              "      <td>Pedas</td>\n",
              "      <td>17000</td>\n",
              "      <td>4.4</td>\n",
              "      <td>-8.678132</td>\n",
              "      <td>115.224462</td>\n",
              "      <td>-</td>\n",
              "      <td>10K</td>\n",
              "      <td>Baik</td>\n",
              "      <td>100.00</td>\n",
              "    </tr>\n",
              "    <tr>\n",
              "      <th>46</th>\n",
              "      <td>47</td>\n",
              "      <td>Wr. Babi Guling Singaraja \"Rendi\"</td>\n",
              "      <td>Babi Guling Biasa</td>\n",
              "      <td>Denpasar Selatan</td>\n",
              "      <td>Warung</td>\n",
              "      <td>Babi</td>\n",
              "      <td>Babi Guling</td>\n",
              "      <td>Pedas</td>\n",
              "      <td>15000</td>\n",
              "      <td>4.6</td>\n",
              "      <td>-8.690663</td>\n",
              "      <td>115.224660</td>\n",
              "      <td>85239697405</td>\n",
              "      <td>10K</td>\n",
              "      <td>Baik</td>\n",
              "      <td>100.00</td>\n",
              "    </tr>\n",
              "    <tr>\n",
              "      <th>37</th>\n",
              "      <td>38</td>\n",
              "      <td>Warung Celuk</td>\n",
              "      <td>Nasi Campur Ayam / Babi</td>\n",
              "      <td>Denpasar Selatan</td>\n",
              "      <td>Warung</td>\n",
              "      <td>Babi</td>\n",
              "      <td>Babi Guling</td>\n",
              "      <td>Pedas</td>\n",
              "      <td>10000</td>\n",
              "      <td>4.7</td>\n",
              "      <td>-8.683615</td>\n",
              "      <td>115.221227</td>\n",
              "      <td>8123690214</td>\n",
              "      <td>10K</td>\n",
              "      <td>Sangat Baik</td>\n",
              "      <td>86.54</td>\n",
              "    </tr>\n",
              "    <tr>\n",
              "      <th>1</th>\n",
              "      <td>2</td>\n",
              "      <td>Wr. Babi Guling Mawar</td>\n",
              "      <td>Babi Guling</td>\n",
              "      <td>Denpasar Utara</td>\n",
              "      <td>Warung</td>\n",
              "      <td>Babi</td>\n",
              "      <td>Babi Guling</td>\n",
              "      <td>Pedas</td>\n",
              "      <td>18000</td>\n",
              "      <td>4.5</td>\n",
              "      <td>-8.627955</td>\n",
              "      <td>115.208472</td>\n",
              "      <td>81805313408</td>\n",
              "      <td>10K</td>\n",
              "      <td>Baik</td>\n",
              "      <td>80.77</td>\n",
              "    </tr>\n",
              "    <tr>\n",
              "      <th>51</th>\n",
              "      <td>52</td>\n",
              "      <td>Babi Guling Sading</td>\n",
              "      <td>Nasi Babi Guling</td>\n",
              "      <td>Denpasar</td>\n",
              "      <td>Warung</td>\n",
              "      <td>Babi</td>\n",
              "      <td>Babi Guling</td>\n",
              "      <td>Pedas</td>\n",
              "      <td>10000</td>\n",
              "      <td>4.6</td>\n",
              "      <td>-8.609538</td>\n",
              "      <td>115.238646</td>\n",
              "      <td>-</td>\n",
              "      <td>10K</td>\n",
              "      <td>Baik</td>\n",
              "      <td>80.77</td>\n",
              "    </tr>\n",
              "  </tbody>\n",
              "</table>\n",
              "</div>"
            ],
            "text/plain": [
              "    No                               Nama                      Menu  \\\n",
              "10  11                     Wr. Murni Asih  Babi Guling Khas Gianyar   \n",
              "46  47  Wr. Babi Guling Singaraja \"Rendi\"         Babi Guling Biasa   \n",
              "37  38                       Warung Celuk   Nasi Campur Ayam / Babi   \n",
              "1    2              Wr. Babi Guling Mawar               Babi Guling   \n",
              "51  52                 Babi Guling Sading          Nasi Babi Guling   \n",
              "\n",
              "              Daerah  Tempat Kategori        Jenis   Rasa  Harga  Rating  \\\n",
              "10  Denpasar Selatan  Warung     Babi  Babi Guling  Pedas  17000     4.4   \n",
              "46  Denpasar Selatan  Warung     Babi  Babi Guling  Pedas  15000     4.6   \n",
              "37  Denpasar Selatan  Warung     Babi  Babi Guling  Pedas  10000     4.7   \n",
              "1     Denpasar Utara  Warung     Babi  Babi Guling  Pedas  18000     4.5   \n",
              "51          Denpasar  Warung     Babi  Babi Guling  Pedas  10000     4.6   \n",
              "\n",
              "    Latitude   Longitude      Telepon range_harga range_rating  Similarity  \n",
              "10 -8.678132  115.224462            -         10K         Baik      100.00  \n",
              "46 -8.690663  115.224660  85239697405         10K         Baik      100.00  \n",
              "37 -8.683615  115.221227   8123690214         10K  Sangat Baik       86.54  \n",
              "1  -8.627955  115.208472  81805313408         10K         Baik       80.77  \n",
              "51 -8.609538  115.238646            -         10K         Baik       80.77  "
            ]
          },
          "execution_count": 722,
          "metadata": {},
          "output_type": "execute_result"
        }
      ],
      "source": [
        "result"
      ]
    }
  ],
  "metadata": {
    "colab": {
      "provenance": []
    },
    "kernelspec": {
      "display_name": "Python 3.10.5 64-bit",
      "language": "python",
      "name": "python3"
    },
    "language_info": {
      "codemirror_mode": {
        "name": "ipython",
        "version": 3
      },
      "file_extension": ".py",
      "mimetype": "text/x-python",
      "name": "python",
      "nbconvert_exporter": "python",
      "pygments_lexer": "ipython3",
      "version": "3.10.5"
    },
    "vscode": {
      "interpreter": {
        "hash": "8d197431c9bedd47859b48ad90c2b4085e901bb32e1230a4d4add74cbcab4c72"
      }
    }
  },
  "nbformat": 4,
  "nbformat_minor": 0
}
